{
  "nbformat": 4,
  "nbformat_minor": 0,
  "metadata": {
    "colab": {
      "name": "Untitled2.ipynb",
      "provenance": [],
      "mount_file_id": "1vkwyAtnHVKdCHexGf2Ni8Qg61kg24Htf",
      "authorship_tag": "ABX9TyMMn01t5JIb2Tg7MuxG8xQk",
      "include_colab_link": true
    },
    "kernelspec": {
      "name": "python3",
      "display_name": "Python 3"
    }
  },
  "cells": [
    {
      "cell_type": "markdown",
      "metadata": {
        "id": "view-in-github",
        "colab_type": "text"
      },
      "source": [
        "<a href=\"https://colab.research.google.com/github/LeeM21/DateBase/blob/master/%EC%9D%91%EC%9A%A95/4.ipynb\" target=\"_parent\"><img src=\"https://colab.research.google.com/assets/colab-badge.svg\" alt=\"Open In Colab\"/></a>"
      ]
    },
    {
      "cell_type": "code",
      "metadata": {
        "id": "wL6RwkkGO-Rs",
        "colab_type": "code",
        "colab": {}
      },
      "source": [
        "import pandas as pd\n",
        "path = '/A 학교출신 지원자.csv'"
      ],
      "execution_count": 0,
      "outputs": []
    },
    {
      "cell_type": "code",
      "metadata": {
        "id": "L4UCDYd9PsL0",
        "colab_type": "code",
        "colab": {
          "base_uri": "https://localhost:8080/",
          "height": 195
        },
        "outputId": "64644116-66c5-415c-a0ec-040ccc6329ce"
      },
      "source": [
        "df = pd.read_csv(path, encoding='cp949')\n",
        "df.head()"
      ],
      "execution_count": 4,
      "outputs": [
        {
          "output_type": "execute_result",
          "data": {
            "text/html": [
              "<div>\n",
              "<style scoped>\n",
              "    .dataframe tbody tr th:only-of-type {\n",
              "        vertical-align: middle;\n",
              "    }\n",
              "\n",
              "    .dataframe tbody tr th {\n",
              "        vertical-align: top;\n",
              "    }\n",
              "\n",
              "    .dataframe thead th {\n",
              "        text-align: right;\n",
              "    }\n",
              "</style>\n",
              "<table border=\"1\" class=\"dataframe\">\n",
              "  <thead>\n",
              "    <tr style=\"text-align: right;\">\n",
              "      <th></th>\n",
              "      <th>출신고교</th>\n",
              "      <th>학번</th>\n",
              "      <th>이름</th>\n",
              "      <th>국어</th>\n",
              "      <th>수학</th>\n",
              "      <th>영어</th>\n",
              "      <th>과탐1</th>\n",
              "      <th>과탐2</th>\n",
              "    </tr>\n",
              "  </thead>\n",
              "  <tbody>\n",
              "    <tr>\n",
              "      <th>0</th>\n",
              "      <td>A</td>\n",
              "      <td>30104</td>\n",
              "      <td>조매미</td>\n",
              "      <td>70</td>\n",
              "      <td>66</td>\n",
              "      <td>78</td>\n",
              "      <td>38</td>\n",
              "      <td>42</td>\n",
              "    </tr>\n",
              "    <tr>\n",
              "      <th>1</th>\n",
              "      <td>A</td>\n",
              "      <td>30115</td>\n",
              "      <td>김개미</td>\n",
              "      <td>71</td>\n",
              "      <td>77</td>\n",
              "      <td>89</td>\n",
              "      <td>15</td>\n",
              "      <td>20</td>\n",
              "    </tr>\n",
              "    <tr>\n",
              "      <th>2</th>\n",
              "      <td>A</td>\n",
              "      <td>30117</td>\n",
              "      <td>박모기</td>\n",
              "      <td>76</td>\n",
              "      <td>55</td>\n",
              "      <td>75</td>\n",
              "      <td>35</td>\n",
              "      <td>30</td>\n",
              "    </tr>\n",
              "    <tr>\n",
              "      <th>3</th>\n",
              "      <td>A</td>\n",
              "      <td>30120</td>\n",
              "      <td>최파리</td>\n",
              "      <td>69</td>\n",
              "      <td>66</td>\n",
              "      <td>51</td>\n",
              "      <td>15</td>\n",
              "      <td>36</td>\n",
              "    </tr>\n",
              "    <tr>\n",
              "      <th>4</th>\n",
              "      <td>A</td>\n",
              "      <td>30215</td>\n",
              "      <td>정땅벌</td>\n",
              "      <td>63</td>\n",
              "      <td>20</td>\n",
              "      <td>76</td>\n",
              "      <td>15</td>\n",
              "      <td>19</td>\n",
              "    </tr>\n",
              "  </tbody>\n",
              "</table>\n",
              "</div>"
            ],
            "text/plain": [
              "  출신고교     학번   이름  국어  수학  영어  과탐1  과탐2\n",
              "0    A  30104  조매미  70  66  78   38   42\n",
              "1    A  30115  김개미  71  77  89   15   20\n",
              "2    A  30117  박모기  76  55  75   35   30\n",
              "3    A  30120  최파리  69  66  51   15   36\n",
              "4    A  30215  정땅벌  63  20  76   15   19"
            ]
          },
          "metadata": {
            "tags": []
          },
          "execution_count": 4
        }
      ]
    },
    {
      "cell_type": "code",
      "metadata": {
        "id": "Z9xgnbmuQ9Jf",
        "colab_type": "code",
        "colab": {
          "base_uri": "https://localhost:8080/",
          "height": 195
        },
        "outputId": "6c9ddc0d-e649-49b9-f0ac-f77e8aca8477"
      },
      "source": [
        "df.tail()"
      ],
      "execution_count": 6,
      "outputs": [
        {
          "output_type": "execute_result",
          "data": {
            "text/html": [
              "<div>\n",
              "<style scoped>\n",
              "    .dataframe tbody tr th:only-of-type {\n",
              "        vertical-align: middle;\n",
              "    }\n",
              "\n",
              "    .dataframe tbody tr th {\n",
              "        vertical-align: top;\n",
              "    }\n",
              "\n",
              "    .dataframe thead th {\n",
              "        text-align: right;\n",
              "    }\n",
              "</style>\n",
              "<table border=\"1\" class=\"dataframe\">\n",
              "  <thead>\n",
              "    <tr style=\"text-align: right;\">\n",
              "      <th></th>\n",
              "      <th>출신고교</th>\n",
              "      <th>학번</th>\n",
              "      <th>이름</th>\n",
              "      <th>국어</th>\n",
              "      <th>수학</th>\n",
              "      <th>영어</th>\n",
              "      <th>과탐1</th>\n",
              "      <th>과탐2</th>\n",
              "    </tr>\n",
              "  </thead>\n",
              "  <tbody>\n",
              "    <tr>\n",
              "      <th>24</th>\n",
              "      <td>A</td>\n",
              "      <td>30822</td>\n",
              "      <td>조황돔</td>\n",
              "      <td>84</td>\n",
              "      <td>88</td>\n",
              "      <td>76</td>\n",
              "      <td>37</td>\n",
              "      <td>37</td>\n",
              "    </tr>\n",
              "    <tr>\n",
              "      <th>25</th>\n",
              "      <td>A</td>\n",
              "      <td>30824</td>\n",
              "      <td>백돌돔</td>\n",
              "      <td>83</td>\n",
              "      <td>88</td>\n",
              "      <td>80</td>\n",
              "      <td>30</td>\n",
              "      <td>30</td>\n",
              "    </tr>\n",
              "    <tr>\n",
              "      <th>26</th>\n",
              "      <td>A</td>\n",
              "      <td>30827</td>\n",
              "      <td>허대구</td>\n",
              "      <td>95</td>\n",
              "      <td>70</td>\n",
              "      <td>67</td>\n",
              "      <td>35</td>\n",
              "      <td>29</td>\n",
              "    </tr>\n",
              "    <tr>\n",
              "      <th>27</th>\n",
              "      <td>A</td>\n",
              "      <td>30901</td>\n",
              "      <td>유명태</td>\n",
              "      <td>87</td>\n",
              "      <td>69</td>\n",
              "      <td>96</td>\n",
              "      <td>37</td>\n",
              "      <td>40</td>\n",
              "    </tr>\n",
              "    <tr>\n",
              "      <th>28</th>\n",
              "      <td>A</td>\n",
              "      <td>30928</td>\n",
              "      <td>남동태</td>\n",
              "      <td>91</td>\n",
              "      <td>50</td>\n",
              "      <td>80</td>\n",
              "      <td>29</td>\n",
              "      <td>26</td>\n",
              "    </tr>\n",
              "  </tbody>\n",
              "</table>\n",
              "</div>"
            ],
            "text/plain": [
              "   출신고교     학번   이름  국어  수학  영어  과탐1  과탐2\n",
              "24    A  30822  조황돔  84  88  76   37   37\n",
              "25    A  30824  백돌돔  83  88  80   30   30\n",
              "26    A  30827  허대구  95  70  67   35   29\n",
              "27    A  30901  유명태  87  69  96   37   40\n",
              "28    A  30928  남동태  91  50  80   29   26"
            ]
          },
          "metadata": {
            "tags": []
          },
          "execution_count": 6
        }
      ]
    },
    {
      "cell_type": "code",
      "metadata": {
        "id": "qCa_eOzNRNTZ",
        "colab_type": "code",
        "colab": {
          "base_uri": "https://localhost:8080/",
          "height": 545
        },
        "outputId": "06bed054-6945-4b6b-b7f9-7a3c4bb9b3eb"
      },
      "source": [
        "df.info"
      ],
      "execution_count": 8,
      "outputs": [
        {
          "output_type": "execute_result",
          "data": {
            "text/plain": [
              "<bound method DataFrame.info of    출신고교     학번   이름  국어  수학  영어  과탐1  과탐2\n",
              "0     A  30104  조매미  70  66  78   38   42\n",
              "1     A  30115  김개미  71  77  89   15   20\n",
              "2     A  30117  박모기  76  55  75   35   30\n",
              "3     A  30120  최파리  69  66  51   15   36\n",
              "4     A  30215  정땅벌  63  20  76   15   19\n",
              "5     A  30228  오멸치  67  51  48   21   12\n",
              "6     A  30229  김꿀벌  93  77  78   33   44\n",
              "7     A  30305  윤여치  88  66  70   41   21\n",
              "8     A  30315  장곱등  86  66  84   35   38\n",
              "9     A  30317  임나방  73  77  75   32   25\n",
              "10    A  30319  한말벌  84  65  75   42   26\n",
              "11    A  30401  강나비  68  80  72   10   12\n",
              "12    A  30404  서삼치  88  65  86   41   37\n",
              "13    A  30421  신참치  98  92  85   44   35\n",
              "14    A  30428  권갈치  91  74  83   38   42\n",
              "15    A  30503  황넙치  73  70  76   35   33\n",
              "16    A  30512  안준치  84  77  66   19   23\n",
              "17    A  30518  송날치  90  56  61   20   33\n",
              "18    A  30529  전꽁치  79  46  68   34   34\n",
              "19    A  30622  유쥐치  95  85  91   38   32\n",
              "20    A  30707  고조기  57  69  72    8   18\n",
              "21    A  30709  문메기  72  77  91   18   33\n",
              "22    A  30803  손뿔돔  71  80  48   34   29\n",
              "23    A  30815  배옥돔  49  70  31   12   21\n",
              "24    A  30822  조황돔  84  88  76   37   37\n",
              "25    A  30824  백돌돔  83  88  80   30   30\n",
              "26    A  30827  허대구  95  70  67   35   29\n",
              "27    A  30901  유명태  87  69  96   37   40\n",
              "28    A  30928  남동태  91  50  80   29   26>"
            ]
          },
          "metadata": {
            "tags": []
          },
          "execution_count": 8
        }
      ]
    },
    {
      "cell_type": "code",
      "metadata": {
        "id": "k4ZHNtUhRPKJ",
        "colab_type": "code",
        "colab": {
          "base_uri": "https://localhost:8080/",
          "height": 122
        },
        "outputId": "bb4780b3-06b6-4e25-b2c2-6a5638e236f6"
      },
      "source": [
        "df['과탐1'].head()"
      ],
      "execution_count": 11,
      "outputs": [
        {
          "output_type": "execute_result",
          "data": {
            "text/plain": [
              "0    38\n",
              "1    15\n",
              "2    35\n",
              "3    15\n",
              "4    15\n",
              "Name: 과탐1, dtype: int64"
            ]
          },
          "metadata": {
            "tags": []
          },
          "execution_count": 11
        }
      ]
    },
    {
      "cell_type": "code",
      "metadata": {
        "id": "6xJvGDV9RUsI",
        "colab_type": "code",
        "colab": {
          "base_uri": "https://localhost:8080/",
          "height": 906
        },
        "outputId": "b4c29904-fb95-4189-8671-0ef4349d4a1c"
      },
      "source": [
        "df['과탐평균']= df['과탐1']*0.5+df['과탐2']*0.5\n",
        "df[['과탐평균']]"
      ],
      "execution_count": 16,
      "outputs": [
        {
          "output_type": "execute_result",
          "data": {
            "text/html": [
              "<div>\n",
              "<style scoped>\n",
              "    .dataframe tbody tr th:only-of-type {\n",
              "        vertical-align: middle;\n",
              "    }\n",
              "\n",
              "    .dataframe tbody tr th {\n",
              "        vertical-align: top;\n",
              "    }\n",
              "\n",
              "    .dataframe thead th {\n",
              "        text-align: right;\n",
              "    }\n",
              "</style>\n",
              "<table border=\"1\" class=\"dataframe\">\n",
              "  <thead>\n",
              "    <tr style=\"text-align: right;\">\n",
              "      <th></th>\n",
              "      <th>과탐평균</th>\n",
              "    </tr>\n",
              "  </thead>\n",
              "  <tbody>\n",
              "    <tr>\n",
              "      <th>0</th>\n",
              "      <td>40.0</td>\n",
              "    </tr>\n",
              "    <tr>\n",
              "      <th>1</th>\n",
              "      <td>17.5</td>\n",
              "    </tr>\n",
              "    <tr>\n",
              "      <th>2</th>\n",
              "      <td>32.5</td>\n",
              "    </tr>\n",
              "    <tr>\n",
              "      <th>3</th>\n",
              "      <td>25.5</td>\n",
              "    </tr>\n",
              "    <tr>\n",
              "      <th>4</th>\n",
              "      <td>17.0</td>\n",
              "    </tr>\n",
              "    <tr>\n",
              "      <th>5</th>\n",
              "      <td>16.5</td>\n",
              "    </tr>\n",
              "    <tr>\n",
              "      <th>6</th>\n",
              "      <td>38.5</td>\n",
              "    </tr>\n",
              "    <tr>\n",
              "      <th>7</th>\n",
              "      <td>31.0</td>\n",
              "    </tr>\n",
              "    <tr>\n",
              "      <th>8</th>\n",
              "      <td>36.5</td>\n",
              "    </tr>\n",
              "    <tr>\n",
              "      <th>9</th>\n",
              "      <td>28.5</td>\n",
              "    </tr>\n",
              "    <tr>\n",
              "      <th>10</th>\n",
              "      <td>34.0</td>\n",
              "    </tr>\n",
              "    <tr>\n",
              "      <th>11</th>\n",
              "      <td>11.0</td>\n",
              "    </tr>\n",
              "    <tr>\n",
              "      <th>12</th>\n",
              "      <td>39.0</td>\n",
              "    </tr>\n",
              "    <tr>\n",
              "      <th>13</th>\n",
              "      <td>39.5</td>\n",
              "    </tr>\n",
              "    <tr>\n",
              "      <th>14</th>\n",
              "      <td>40.0</td>\n",
              "    </tr>\n",
              "    <tr>\n",
              "      <th>15</th>\n",
              "      <td>34.0</td>\n",
              "    </tr>\n",
              "    <tr>\n",
              "      <th>16</th>\n",
              "      <td>21.0</td>\n",
              "    </tr>\n",
              "    <tr>\n",
              "      <th>17</th>\n",
              "      <td>26.5</td>\n",
              "    </tr>\n",
              "    <tr>\n",
              "      <th>18</th>\n",
              "      <td>34.0</td>\n",
              "    </tr>\n",
              "    <tr>\n",
              "      <th>19</th>\n",
              "      <td>35.0</td>\n",
              "    </tr>\n",
              "    <tr>\n",
              "      <th>20</th>\n",
              "      <td>13.0</td>\n",
              "    </tr>\n",
              "    <tr>\n",
              "      <th>21</th>\n",
              "      <td>25.5</td>\n",
              "    </tr>\n",
              "    <tr>\n",
              "      <th>22</th>\n",
              "      <td>31.5</td>\n",
              "    </tr>\n",
              "    <tr>\n",
              "      <th>23</th>\n",
              "      <td>16.5</td>\n",
              "    </tr>\n",
              "    <tr>\n",
              "      <th>24</th>\n",
              "      <td>37.0</td>\n",
              "    </tr>\n",
              "    <tr>\n",
              "      <th>25</th>\n",
              "      <td>30.0</td>\n",
              "    </tr>\n",
              "    <tr>\n",
              "      <th>26</th>\n",
              "      <td>32.0</td>\n",
              "    </tr>\n",
              "    <tr>\n",
              "      <th>27</th>\n",
              "      <td>38.5</td>\n",
              "    </tr>\n",
              "    <tr>\n",
              "      <th>28</th>\n",
              "      <td>27.5</td>\n",
              "    </tr>\n",
              "  </tbody>\n",
              "</table>\n",
              "</div>"
            ],
            "text/plain": [
              "    과탐평균\n",
              "0   40.0\n",
              "1   17.5\n",
              "2   32.5\n",
              "3   25.5\n",
              "4   17.0\n",
              "5   16.5\n",
              "6   38.5\n",
              "7   31.0\n",
              "8   36.5\n",
              "9   28.5\n",
              "10  34.0\n",
              "11  11.0\n",
              "12  39.0\n",
              "13  39.5\n",
              "14  40.0\n",
              "15  34.0\n",
              "16  21.0\n",
              "17  26.5\n",
              "18  34.0\n",
              "19  35.0\n",
              "20  13.0\n",
              "21  25.5\n",
              "22  31.5\n",
              "23  16.5\n",
              "24  37.0\n",
              "25  30.0\n",
              "26  32.0\n",
              "27  38.5\n",
              "28  27.5"
            ]
          },
          "metadata": {
            "tags": []
          },
          "execution_count": 16
        }
      ]
    },
    {
      "cell_type": "code",
      "metadata": {
        "id": "Dbu2cXQ6ZONl",
        "colab_type": "code",
        "colab": {
          "base_uri": "https://localhost:8080/",
          "height": 195
        },
        "outputId": "5dc1897d-57ad-45a9-afd0-e0265bbbee5a"
      },
      "source": [
        "df.head()"
      ],
      "execution_count": 19,
      "outputs": [
        {
          "output_type": "execute_result",
          "data": {
            "text/html": [
              "<div>\n",
              "<style scoped>\n",
              "    .dataframe tbody tr th:only-of-type {\n",
              "        vertical-align: middle;\n",
              "    }\n",
              "\n",
              "    .dataframe tbody tr th {\n",
              "        vertical-align: top;\n",
              "    }\n",
              "\n",
              "    .dataframe thead th {\n",
              "        text-align: right;\n",
              "    }\n",
              "</style>\n",
              "<table border=\"1\" class=\"dataframe\">\n",
              "  <thead>\n",
              "    <tr style=\"text-align: right;\">\n",
              "      <th></th>\n",
              "      <th>출신고교</th>\n",
              "      <th>학번</th>\n",
              "      <th>이름</th>\n",
              "      <th>국어</th>\n",
              "      <th>수학</th>\n",
              "      <th>영어</th>\n",
              "      <th>과탐1</th>\n",
              "      <th>과탐2</th>\n",
              "      <th>과탐평균</th>\n",
              "    </tr>\n",
              "  </thead>\n",
              "  <tbody>\n",
              "    <tr>\n",
              "      <th>0</th>\n",
              "      <td>A</td>\n",
              "      <td>30104</td>\n",
              "      <td>조매미</td>\n",
              "      <td>70</td>\n",
              "      <td>66</td>\n",
              "      <td>78</td>\n",
              "      <td>38</td>\n",
              "      <td>42</td>\n",
              "      <td>40.0</td>\n",
              "    </tr>\n",
              "    <tr>\n",
              "      <th>1</th>\n",
              "      <td>A</td>\n",
              "      <td>30115</td>\n",
              "      <td>김개미</td>\n",
              "      <td>71</td>\n",
              "      <td>77</td>\n",
              "      <td>89</td>\n",
              "      <td>15</td>\n",
              "      <td>20</td>\n",
              "      <td>17.5</td>\n",
              "    </tr>\n",
              "    <tr>\n",
              "      <th>2</th>\n",
              "      <td>A</td>\n",
              "      <td>30117</td>\n",
              "      <td>박모기</td>\n",
              "      <td>76</td>\n",
              "      <td>55</td>\n",
              "      <td>75</td>\n",
              "      <td>35</td>\n",
              "      <td>30</td>\n",
              "      <td>32.5</td>\n",
              "    </tr>\n",
              "    <tr>\n",
              "      <th>3</th>\n",
              "      <td>A</td>\n",
              "      <td>30120</td>\n",
              "      <td>최파리</td>\n",
              "      <td>69</td>\n",
              "      <td>66</td>\n",
              "      <td>51</td>\n",
              "      <td>15</td>\n",
              "      <td>36</td>\n",
              "      <td>25.5</td>\n",
              "    </tr>\n",
              "    <tr>\n",
              "      <th>4</th>\n",
              "      <td>A</td>\n",
              "      <td>30215</td>\n",
              "      <td>정땅벌</td>\n",
              "      <td>63</td>\n",
              "      <td>20</td>\n",
              "      <td>76</td>\n",
              "      <td>15</td>\n",
              "      <td>19</td>\n",
              "      <td>17.0</td>\n",
              "    </tr>\n",
              "  </tbody>\n",
              "</table>\n",
              "</div>"
            ],
            "text/plain": [
              "  출신고교     학번   이름  국어  수학  영어  과탐1  과탐2  과탐평균\n",
              "0    A  30104  조매미  70  66  78   38   42  40.0\n",
              "1    A  30115  김개미  71  77  89   15   20  17.5\n",
              "2    A  30117  박모기  76  55  75   35   30  32.5\n",
              "3    A  30120  최파리  69  66  51   15   36  25.5\n",
              "4    A  30215  정땅벌  63  20  76   15   19  17.0"
            ]
          },
          "metadata": {
            "tags": []
          },
          "execution_count": 19
        }
      ]
    },
    {
      "cell_type": "code",
      "metadata": {
        "id": "x5J9Vl-TbzqL",
        "colab_type": "code",
        "colab": {
          "base_uri": "https://localhost:8080/",
          "height": 34
        },
        "outputId": "82c5457b-9205-4e37-973f-a9359c316d86"
      },
      "source": [
        "\n",
        "re = (lambda a: a+10)(1) \n",
        "re"
      ],
      "execution_count": 24,
      "outputs": [
        {
          "output_type": "execute_result",
          "data": {
            "text/plain": [
              "11"
            ]
          },
          "metadata": {
            "tags": []
          },
          "execution_count": 24
        }
      ]
    },
    {
      "cell_type": "code",
      "metadata": {
        "id": "XAwLRJUTmdQf",
        "colab_type": "code",
        "colab": {
          "base_uri": "https://localhost:8080/",
          "height": 34
        },
        "outputId": "e8a61da6-7661-4c9b-fd5c-26f6167925ca"
      },
      "source": [
        "a=[3,5,11,100]\n",
        "a"
      ],
      "execution_count": 25,
      "outputs": [
        {
          "output_type": "execute_result",
          "data": {
            "text/plain": [
              "[3, 5, 11, 100]"
            ]
          },
          "metadata": {
            "tags": []
          },
          "execution_count": 25
        }
      ]
    },
    {
      "cell_type": "code",
      "metadata": {
        "id": "Zn2qLImfmhb7",
        "colab_type": "code",
        "colab": {
          "base_uri": "https://localhost:8080/",
          "height": 34
        },
        "outputId": "077df931-d68d-44ab-b894-66332afd92bd"
      },
      "source": [
        "max(a)"
      ],
      "execution_count": 26,
      "outputs": [
        {
          "output_type": "execute_result",
          "data": {
            "text/plain": [
              "100"
            ]
          },
          "metadata": {
            "tags": []
          },
          "execution_count": 26
        }
      ]
    },
    {
      "cell_type": "code",
      "metadata": {
        "id": "o4OVEh8MmjgL",
        "colab_type": "code",
        "colab": {
          "base_uri": "https://localhost:8080/",
          "height": 34
        },
        "outputId": "8f090cec-0ee5-49cd-95d9-157051b2f538"
      },
      "source": [
        "f = lambda x, y : x+y\n",
        "f(5,10)"
      ],
      "execution_count": 30,
      "outputs": [
        {
          "output_type": "execute_result",
          "data": {
            "text/plain": [
              "15"
            ]
          },
          "metadata": {
            "tags": []
          },
          "execution_count": 30
        }
      ]
    },
    {
      "cell_type": "code",
      "metadata": {
        "id": "iuhyTqkJmzBK",
        "colab_type": "code",
        "colab": {
          "base_uri": "https://localhost:8080/",
          "height": 52
        },
        "outputId": "81115559-1ae2-4c71-ff9f-644191a13226"
      },
      "source": [
        "max_lam = (lambda a : max(a))\n",
        "print(a)\n",
        "max_lam(a) "
      ],
      "execution_count": 34,
      "outputs": [
        {
          "output_type": "stream",
          "text": [
            "[3, 5, 11, 100]\n"
          ],
          "name": "stdout"
        },
        {
          "output_type": "execute_result",
          "data": {
            "text/plain": [
              "100"
            ]
          },
          "metadata": {
            "tags": []
          },
          "execution_count": 34
        }
      ]
    },
    {
      "cell_type": "code",
      "metadata": {
        "id": "n-OrKyKXnFCF",
        "colab_type": "code",
        "colab": {
          "base_uri": "https://localhost:8080/",
          "height": 906
        },
        "outputId": "538c6101-548e-4e4e-d5f1-54a68a2aec66"
      },
      "source": [
        "df[['과탐1', '과탐2']]"
      ],
      "execution_count": 35,
      "outputs": [
        {
          "output_type": "execute_result",
          "data": {
            "text/html": [
              "<div>\n",
              "<style scoped>\n",
              "    .dataframe tbody tr th:only-of-type {\n",
              "        vertical-align: middle;\n",
              "    }\n",
              "\n",
              "    .dataframe tbody tr th {\n",
              "        vertical-align: top;\n",
              "    }\n",
              "\n",
              "    .dataframe thead th {\n",
              "        text-align: right;\n",
              "    }\n",
              "</style>\n",
              "<table border=\"1\" class=\"dataframe\">\n",
              "  <thead>\n",
              "    <tr style=\"text-align: right;\">\n",
              "      <th></th>\n",
              "      <th>과탐1</th>\n",
              "      <th>과탐2</th>\n",
              "    </tr>\n",
              "  </thead>\n",
              "  <tbody>\n",
              "    <tr>\n",
              "      <th>0</th>\n",
              "      <td>38</td>\n",
              "      <td>42</td>\n",
              "    </tr>\n",
              "    <tr>\n",
              "      <th>1</th>\n",
              "      <td>15</td>\n",
              "      <td>20</td>\n",
              "    </tr>\n",
              "    <tr>\n",
              "      <th>2</th>\n",
              "      <td>35</td>\n",
              "      <td>30</td>\n",
              "    </tr>\n",
              "    <tr>\n",
              "      <th>3</th>\n",
              "      <td>15</td>\n",
              "      <td>36</td>\n",
              "    </tr>\n",
              "    <tr>\n",
              "      <th>4</th>\n",
              "      <td>15</td>\n",
              "      <td>19</td>\n",
              "    </tr>\n",
              "    <tr>\n",
              "      <th>5</th>\n",
              "      <td>21</td>\n",
              "      <td>12</td>\n",
              "    </tr>\n",
              "    <tr>\n",
              "      <th>6</th>\n",
              "      <td>33</td>\n",
              "      <td>44</td>\n",
              "    </tr>\n",
              "    <tr>\n",
              "      <th>7</th>\n",
              "      <td>41</td>\n",
              "      <td>21</td>\n",
              "    </tr>\n",
              "    <tr>\n",
              "      <th>8</th>\n",
              "      <td>35</td>\n",
              "      <td>38</td>\n",
              "    </tr>\n",
              "    <tr>\n",
              "      <th>9</th>\n",
              "      <td>32</td>\n",
              "      <td>25</td>\n",
              "    </tr>\n",
              "    <tr>\n",
              "      <th>10</th>\n",
              "      <td>42</td>\n",
              "      <td>26</td>\n",
              "    </tr>\n",
              "    <tr>\n",
              "      <th>11</th>\n",
              "      <td>10</td>\n",
              "      <td>12</td>\n",
              "    </tr>\n",
              "    <tr>\n",
              "      <th>12</th>\n",
              "      <td>41</td>\n",
              "      <td>37</td>\n",
              "    </tr>\n",
              "    <tr>\n",
              "      <th>13</th>\n",
              "      <td>44</td>\n",
              "      <td>35</td>\n",
              "    </tr>\n",
              "    <tr>\n",
              "      <th>14</th>\n",
              "      <td>38</td>\n",
              "      <td>42</td>\n",
              "    </tr>\n",
              "    <tr>\n",
              "      <th>15</th>\n",
              "      <td>35</td>\n",
              "      <td>33</td>\n",
              "    </tr>\n",
              "    <tr>\n",
              "      <th>16</th>\n",
              "      <td>19</td>\n",
              "      <td>23</td>\n",
              "    </tr>\n",
              "    <tr>\n",
              "      <th>17</th>\n",
              "      <td>20</td>\n",
              "      <td>33</td>\n",
              "    </tr>\n",
              "    <tr>\n",
              "      <th>18</th>\n",
              "      <td>34</td>\n",
              "      <td>34</td>\n",
              "    </tr>\n",
              "    <tr>\n",
              "      <th>19</th>\n",
              "      <td>38</td>\n",
              "      <td>32</td>\n",
              "    </tr>\n",
              "    <tr>\n",
              "      <th>20</th>\n",
              "      <td>8</td>\n",
              "      <td>18</td>\n",
              "    </tr>\n",
              "    <tr>\n",
              "      <th>21</th>\n",
              "      <td>18</td>\n",
              "      <td>33</td>\n",
              "    </tr>\n",
              "    <tr>\n",
              "      <th>22</th>\n",
              "      <td>34</td>\n",
              "      <td>29</td>\n",
              "    </tr>\n",
              "    <tr>\n",
              "      <th>23</th>\n",
              "      <td>12</td>\n",
              "      <td>21</td>\n",
              "    </tr>\n",
              "    <tr>\n",
              "      <th>24</th>\n",
              "      <td>37</td>\n",
              "      <td>37</td>\n",
              "    </tr>\n",
              "    <tr>\n",
              "      <th>25</th>\n",
              "      <td>30</td>\n",
              "      <td>30</td>\n",
              "    </tr>\n",
              "    <tr>\n",
              "      <th>26</th>\n",
              "      <td>35</td>\n",
              "      <td>29</td>\n",
              "    </tr>\n",
              "    <tr>\n",
              "      <th>27</th>\n",
              "      <td>37</td>\n",
              "      <td>40</td>\n",
              "    </tr>\n",
              "    <tr>\n",
              "      <th>28</th>\n",
              "      <td>29</td>\n",
              "      <td>26</td>\n",
              "    </tr>\n",
              "  </tbody>\n",
              "</table>\n",
              "</div>"
            ],
            "text/plain": [
              "    과탐1  과탐2\n",
              "0    38   42\n",
              "1    15   20\n",
              "2    35   30\n",
              "3    15   36\n",
              "4    15   19\n",
              "5    21   12\n",
              "6    33   44\n",
              "7    41   21\n",
              "8    35   38\n",
              "9    32   25\n",
              "10   42   26\n",
              "11   10   12\n",
              "12   41   37\n",
              "13   44   35\n",
              "14   38   42\n",
              "15   35   33\n",
              "16   19   23\n",
              "17   20   33\n",
              "18   34   34\n",
              "19   38   32\n",
              "20    8   18\n",
              "21   18   33\n",
              "22   34   29\n",
              "23   12   21\n",
              "24   37   37\n",
              "25   30   30\n",
              "26   35   29\n",
              "27   37   40\n",
              "28   29   26"
            ]
          },
          "metadata": {
            "tags": []
          },
          "execution_count": 35
        }
      ]
    },
    {
      "cell_type": "code",
      "metadata": {
        "id": "ZaJXIanjnyvt",
        "colab_type": "code",
        "colab": {
          "base_uri": "https://localhost:8080/",
          "height": 195
        },
        "outputId": "2e64dd71-4fb1-41c4-be7d-3764aa5883bb"
      },
      "source": [
        "df['과탐상위']=df[['과탐1','과탐2']].apply(lambda a : max(a),axis=1)\n",
        "df[['과탐상위']].head()"
      ],
      "execution_count": 41,
      "outputs": [
        {
          "output_type": "execute_result",
          "data": {
            "text/html": [
              "<div>\n",
              "<style scoped>\n",
              "    .dataframe tbody tr th:only-of-type {\n",
              "        vertical-align: middle;\n",
              "    }\n",
              "\n",
              "    .dataframe tbody tr th {\n",
              "        vertical-align: top;\n",
              "    }\n",
              "\n",
              "    .dataframe thead th {\n",
              "        text-align: right;\n",
              "    }\n",
              "</style>\n",
              "<table border=\"1\" class=\"dataframe\">\n",
              "  <thead>\n",
              "    <tr style=\"text-align: right;\">\n",
              "      <th></th>\n",
              "      <th>과탐상위</th>\n",
              "    </tr>\n",
              "  </thead>\n",
              "  <tbody>\n",
              "    <tr>\n",
              "      <th>0</th>\n",
              "      <td>42</td>\n",
              "    </tr>\n",
              "    <tr>\n",
              "      <th>1</th>\n",
              "      <td>20</td>\n",
              "    </tr>\n",
              "    <tr>\n",
              "      <th>2</th>\n",
              "      <td>35</td>\n",
              "    </tr>\n",
              "    <tr>\n",
              "      <th>3</th>\n",
              "      <td>36</td>\n",
              "    </tr>\n",
              "    <tr>\n",
              "      <th>4</th>\n",
              "      <td>19</td>\n",
              "    </tr>\n",
              "  </tbody>\n",
              "</table>\n",
              "</div>"
            ],
            "text/plain": [
              "   과탐상위\n",
              "0    42\n",
              "1    20\n",
              "2    35\n",
              "3    36\n",
              "4    19"
            ]
          },
          "metadata": {
            "tags": []
          },
          "execution_count": 41
        }
      ]
    },
    {
      "cell_type": "markdown",
      "metadata": {
        "id": "K6LAEFlpn5Q-",
        "colab_type": "text"
      },
      "source": [
        "axis=0 행\n",
        "axis=1 열"
      ]
    },
    {
      "cell_type": "code",
      "metadata": {
        "id": "w3devNaxoosr",
        "colab_type": "code",
        "colab": {
          "base_uri": "https://localhost:8080/",
          "height": 195
        },
        "outputId": "7834cbf2-a802-4748-e076-156d391b7113"
      },
      "source": [
        "df['변환점수']=df['국어']*0.2+df['수학']*0.4+(df['과탐1']+df['과탐2'])*0.4\n",
        "df[['변환점수']].head()"
      ],
      "execution_count": 43,
      "outputs": [
        {
          "output_type": "execute_result",
          "data": {
            "text/html": [
              "<div>\n",
              "<style scoped>\n",
              "    .dataframe tbody tr th:only-of-type {\n",
              "        vertical-align: middle;\n",
              "    }\n",
              "\n",
              "    .dataframe tbody tr th {\n",
              "        vertical-align: top;\n",
              "    }\n",
              "\n",
              "    .dataframe thead th {\n",
              "        text-align: right;\n",
              "    }\n",
              "</style>\n",
              "<table border=\"1\" class=\"dataframe\">\n",
              "  <thead>\n",
              "    <tr style=\"text-align: right;\">\n",
              "      <th></th>\n",
              "      <th>변환점수</th>\n",
              "    </tr>\n",
              "  </thead>\n",
              "  <tbody>\n",
              "    <tr>\n",
              "      <th>0</th>\n",
              "      <td>72.4</td>\n",
              "    </tr>\n",
              "    <tr>\n",
              "      <th>1</th>\n",
              "      <td>59.0</td>\n",
              "    </tr>\n",
              "    <tr>\n",
              "      <th>2</th>\n",
              "      <td>63.2</td>\n",
              "    </tr>\n",
              "    <tr>\n",
              "      <th>3</th>\n",
              "      <td>60.6</td>\n",
              "    </tr>\n",
              "    <tr>\n",
              "      <th>4</th>\n",
              "      <td>34.2</td>\n",
              "    </tr>\n",
              "  </tbody>\n",
              "</table>\n",
              "</div>"
            ],
            "text/plain": [
              "   변환점수\n",
              "0  72.4\n",
              "1  59.0\n",
              "2  63.2\n",
              "3  60.6\n",
              "4  34.2"
            ]
          },
          "metadata": {
            "tags": []
          },
          "execution_count": 43
        }
      ]
    },
    {
      "cell_type": "code",
      "metadata": {
        "id": "SQghBvQkpdbx",
        "colab_type": "code",
        "colab": {
          "base_uri": "https://localhost:8080/",
          "height": 195
        },
        "outputId": "9269442b-b803-44f5-d3a4-cbcdc5de4116"
      },
      "source": [
        "df.head()"
      ],
      "execution_count": 45,
      "outputs": [
        {
          "output_type": "execute_result",
          "data": {
            "text/html": [
              "<div>\n",
              "<style scoped>\n",
              "    .dataframe tbody tr th:only-of-type {\n",
              "        vertical-align: middle;\n",
              "    }\n",
              "\n",
              "    .dataframe tbody tr th {\n",
              "        vertical-align: top;\n",
              "    }\n",
              "\n",
              "    .dataframe thead th {\n",
              "        text-align: right;\n",
              "    }\n",
              "</style>\n",
              "<table border=\"1\" class=\"dataframe\">\n",
              "  <thead>\n",
              "    <tr style=\"text-align: right;\">\n",
              "      <th></th>\n",
              "      <th>출신고교</th>\n",
              "      <th>학번</th>\n",
              "      <th>이름</th>\n",
              "      <th>국어</th>\n",
              "      <th>수학</th>\n",
              "      <th>영어</th>\n",
              "      <th>과탐1</th>\n",
              "      <th>과탐2</th>\n",
              "      <th>과탐평균</th>\n",
              "      <th>과탐상위</th>\n",
              "      <th>변환점수</th>\n",
              "    </tr>\n",
              "  </thead>\n",
              "  <tbody>\n",
              "    <tr>\n",
              "      <th>0</th>\n",
              "      <td>A</td>\n",
              "      <td>30104</td>\n",
              "      <td>조매미</td>\n",
              "      <td>70</td>\n",
              "      <td>66</td>\n",
              "      <td>78</td>\n",
              "      <td>38</td>\n",
              "      <td>42</td>\n",
              "      <td>40.0</td>\n",
              "      <td>42</td>\n",
              "      <td>72.4</td>\n",
              "    </tr>\n",
              "    <tr>\n",
              "      <th>1</th>\n",
              "      <td>A</td>\n",
              "      <td>30115</td>\n",
              "      <td>김개미</td>\n",
              "      <td>71</td>\n",
              "      <td>77</td>\n",
              "      <td>89</td>\n",
              "      <td>15</td>\n",
              "      <td>20</td>\n",
              "      <td>17.5</td>\n",
              "      <td>20</td>\n",
              "      <td>59.0</td>\n",
              "    </tr>\n",
              "    <tr>\n",
              "      <th>2</th>\n",
              "      <td>A</td>\n",
              "      <td>30117</td>\n",
              "      <td>박모기</td>\n",
              "      <td>76</td>\n",
              "      <td>55</td>\n",
              "      <td>75</td>\n",
              "      <td>35</td>\n",
              "      <td>30</td>\n",
              "      <td>32.5</td>\n",
              "      <td>35</td>\n",
              "      <td>63.2</td>\n",
              "    </tr>\n",
              "    <tr>\n",
              "      <th>3</th>\n",
              "      <td>A</td>\n",
              "      <td>30120</td>\n",
              "      <td>최파리</td>\n",
              "      <td>69</td>\n",
              "      <td>66</td>\n",
              "      <td>51</td>\n",
              "      <td>15</td>\n",
              "      <td>36</td>\n",
              "      <td>25.5</td>\n",
              "      <td>36</td>\n",
              "      <td>60.6</td>\n",
              "    </tr>\n",
              "    <tr>\n",
              "      <th>4</th>\n",
              "      <td>A</td>\n",
              "      <td>30215</td>\n",
              "      <td>정땅벌</td>\n",
              "      <td>63</td>\n",
              "      <td>20</td>\n",
              "      <td>76</td>\n",
              "      <td>15</td>\n",
              "      <td>19</td>\n",
              "      <td>17.0</td>\n",
              "      <td>19</td>\n",
              "      <td>34.2</td>\n",
              "    </tr>\n",
              "  </tbody>\n",
              "</table>\n",
              "</div>"
            ],
            "text/plain": [
              "  출신고교     학번   이름  국어  수학  영어  과탐1  과탐2  과탐평균  과탐상위  변환점수\n",
              "0    A  30104  조매미  70  66  78   38   42  40.0    42  72.4\n",
              "1    A  30115  김개미  71  77  89   15   20  17.5    20  59.0\n",
              "2    A  30117  박모기  76  55  75   35   30  32.5    35  63.2\n",
              "3    A  30120  최파리  69  66  51   15   36  25.5    36  60.6\n",
              "4    A  30215  정땅벌  63  20  76   15   19  17.0    19  34.2"
            ]
          },
          "metadata": {
            "tags": []
          },
          "execution_count": 45
        }
      ]
    }
  ]
}